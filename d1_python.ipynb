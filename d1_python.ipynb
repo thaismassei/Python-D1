{
 "cells": [
  {
   "cell_type": "markdown",
   "metadata": {},
   "source": [
    "# Répartition du temps de parole entre les hommes et les femmes dans les médias français"
   ]
  },
  {
   "cell_type": "markdown",
   "metadata": {},
   "source": [
    "## Imports des bibliothèques"
   ]
  },
  {
   "cell_type": "code",
   "execution_count": null,
   "metadata": {},
   "outputs": [],
   "source": [
    "import numpy as np\n",
    "import pandas as pd\n",
    "import matplotlib.pyplot as plt\n",
    "import seaborn as sns\n",
    "import bs4\n",
    "from prophet import Prophet\n",
    "from prophet.diagnostics import cross_validation\n",
    "from prophet.diagnostics import performance_metrics\n",
    "from prophet.plot import plot_cross_validation_metric\n",
    "\n",
    "import warnings\n",
    "warnings.filterwarnings(\"ignore\")"
   ]
  },
  {
   "cell_type": "markdown",
   "metadata": {},
   "source": [
    "## Structure des données : quelques statistiques descriptives "
   ]
  },
  {
   "cell_type": "code",
   "execution_count": null,
   "metadata": {},
   "outputs": [],
   "source": [
    "# Télécharger depuis la source\n",
    "# df_stats = pd.read_csv(\"https://www.data.gouv.fr/fr/datasets/r/db598503-d6e5-4e89-8214-167bd239d9e9\")\n",
    "\n",
    "# Version locale\n",
    "df_stats = pd.read_csv(\"data/temps_parole_media.csv\")\n",
    "\n",
    "print(f\"Format de df_stats : {df_stats.shape}\")"
   ]
  },
  {
   "cell_type": "code",
   "execution_count": null,
   "metadata": {},
   "outputs": [],
   "source": [
    "# Échantillon aléatoire du DataFrame\n",
    "df_stats.sample(10)"
   ]
  },
  {
   "cell_type": "markdown",
   "metadata": {},
   "source": [
    "Cette DataFrame s'intitule \"temps de musique et temps de parole des hommes et des femmes à la TV et à la radio\".  Réalisée pour une étude de l'Institut National de l'Audiovisuel (INA) sur la répartition du temps de parole entre les hommes et les femmes à la télévision et à la radio, elle synthétise l’analyse de 1 078 801 heures de programmes diffusés à la télévision et à la radio entre 1995 et 2019. \n",
    "\n",
    "Les temps de parole des hommes et des femmes ont été mesurés par une intelligence artificielle développée par l'INA, le logiciel InaSpeechSegmenter basé sur des algorithmes d'apprentissage automatique. Entraînés sur un grand nombre de musique, de voix de femmes et d'hommes afin de détecter les zones de musique et les zones de parole contenues dans les documents audiovisuels, ce logiciel a permis d'analyser un très grand nombre d'heures d'audience.\n",
    "\n",
    "Comme étudié ci-dessous, cette base de données analyse 21 stations radio: Chérie FM, Europe 1, France Bleu, France Culture, France Info, France Inter, France Musique, Fun Radio, Mouv’, NRJ, Nostalgie, RFM, RMC, RTL, RTL 2, Radio Classique, Radio France Internationale, Rire et Chansons, Skyrock, Sud Radio et Virgin Radio.\n",
    "\n",
    "D'autre part, elle comprend 34 chaînes de TV: Arte, Animaux, BFM TV, Canal+, Canal+ Sport, Chasse et pêche, Chérie 25, Comédie+, D8/C8, Euronews, Eurosport France, France 2, France 24, France 3, France 5, France O, Histoire, I-Télé/CNews, L'Equipe 21, LCI, LCP/Public Sénat, La chaîne Météo, M6, Monte Carlo TMC, NRJ 12, Paris Première, Planète+, TF1, TV Breizh, TV5 Monde, Toute l'Histoire, Téva, Voyage, W9. "
   ]
  },
  {
   "cell_type": "code",
   "execution_count": null,
   "metadata": {
    "scrolled": true
   },
   "outputs": [],
   "source": [
    "# Création de la colonne \"year\" et de la colonne \"months\" à partir de la colonne \"date\"\n",
    "df_stats[\"year\"] = pd.to_datetime(df_stats[\"date\"]).dt.year\n",
    "df_stats[\"month\"] = pd.to_datetime(df_stats[\"date\"]).dt.month"
   ]
  },
  {
   "cell_type": "code",
   "execution_count": null,
   "metadata": {},
   "outputs": [],
   "source": [
    "# nombre d'heures analysées\n",
    "df_stats[\"hour\"].count()"
   ]
  },
  {
   "cell_type": "code",
   "execution_count": null,
   "metadata": {},
   "outputs": [],
   "source": [
    "print(f\"Date miniumum : {df_stats['date'].min()}\")\n",
    "print(f\"Date maximum  : {df_stats['date'].max()}\")\n",
    "print(\n",
    "    f'Le nombre de station radio est : {df_stats.loc[df_stats[\"media_type\"] == \"radio\", \"channel_name\"].nunique()}'\n",
    ")\n",
    "print(\n",
    "    f'Le nombre de chaînes tv est : {df_stats.loc[df_stats[\"media_type\"] == \"tv\", \"channel_name\"].nunique()}'\n",
    ")"
   ]
  },
  {
   "cell_type": "code",
   "execution_count": null,
   "metadata": {},
   "outputs": [],
   "source": [
    "# nombre d'entrées radio et nombre d'entrées tv\n",
    "print(\"Types de media:\")\n",
    "df_stats[\"media_type\"].value_counts()"
   ]
  },
  {
   "cell_type": "code",
   "execution_count": null,
   "metadata": {},
   "outputs": [],
   "source": [
    "# nombre d'entrées par stations radio au sein du \"media_type\" radio\n",
    "print(\"Canaux radio :\")\n",
    "df_stats.loc[df_stats[\"media_type\"] == \"radio\", \"channel_name\"].value_counts()"
   ]
  },
  {
   "cell_type": "code",
   "execution_count": null,
   "metadata": {},
   "outputs": [],
   "source": [
    "# nombre d'entrées par chaines tv au sein du \"media_type\" tv\n",
    "print(\"Canaux tv :\")\n",
    "df_stats.loc[df_stats[\"media_type\"] == \"tv\", \"channel_name\"].value_counts()"
   ]
  },
  {
   "cell_type": "markdown",
   "metadata": {},
   "source": [
    "## Analyse descriptive des données"
   ]
  },
  {
   "cell_type": "markdown",
   "metadata": {},
   "source": [
    "À ce stade, la granularité temporelle est l'heure. Chaque ligne rend compte de ce qu'il s'est passé, pendant l'heure donnée, un certain jour, sur un canal donné.\n",
    "Le temps est en secondes (1h = 3600 secondes). "
   ]
  },
  {
   "cell_type": "markdown",
   "metadata": {},
   "source": [
    "### Calcul des ratios"
   ]
  },
  {
   "cell_type": "code",
   "execution_count": null,
   "metadata": {},
   "outputs": [],
   "source": [
    "# création d'une fonction ratio qui permet d'ajouter quatres nouvelles colonnes à la base de données :\n",
    "# women_expression_rate, men_expression_rate, music_rate, speech_rate\n",
    "\n",
    "def ratio(df):\n",
    "    df = df.copy()\n",
    "    df[\"women_expression_rate\"] = df[\"female_duration\"] / (\n",
    "        df[\"female_duration\"] + df[\"male_duration\"]\n",
    "    )\n",
    "    df[\"men_expression_rate\"] = df[\"male_duration\"] / (\n",
    "        df[\"female_duration\"] + df[\"male_duration\"]\n",
    "    )\n",
    "    df[\"music_rate\"] = df[\"music_duration\"] / (\n",
    "        df[\"female_duration\"] + df[\"male_duration\"] + df[\"music_duration\"]\n",
    "    )\n",
    "    df[\"speech_rate\"] = (df[\"female_duration\"] + df[\"male_duration\"]) / (\n",
    "        df[\"female_duration\"] + df[\"male_duration\"] + df[\"music_duration\"]\n",
    "    )\n",
    "    return df"
   ]
  },
  {
   "cell_type": "markdown",
   "metadata": {},
   "source": [
    "### Agrégation à l'année et par chaîne"
   ]
  },
  {
   "cell_type": "markdown",
   "metadata": {},
   "source": [
    "Changement de granularité. Le niveau d'étude n'est plus la journée désormais mais l'année."
   ]
  },
  {
   "cell_type": "code",
   "execution_count": null,
   "metadata": {},
   "outputs": [],
   "source": [
    "# On a précédemment ajouté une colonne year au tableau.\n",
    "# On aggrège par année, ie on rassemble au sein d'une même ligne toutes les différentes lignes ayant le même \"media_type\", \"channel_code\", \"channel_name\", \"is_public_channel\" et \"year\"\n",
    "# On somme sur ces lignes les male_duration, female_duration, music_duration pour avoir un total par jour et on compte les \"hour\" (car le chiffre reporté dans la colonne heure correspond à l'heure d'enregistrement de l'écoute)\n",
    "# Cela permet de définir à nouveau une nouvelle base de données : df_year_level\n",
    "\n",
    "df_year_level = (\n",
    "    df_stats.groupby(\n",
    "        [\n",
    "            \"media_type\",\n",
    "            \"channel_code\",\n",
    "            \"channel_name\",\n",
    "            \"is_public_channel\",\n",
    "            \"year\",\n",
    "        ]\n",
    "    )\n",
    "    .agg(\n",
    "        {\n",
    "            \"male_duration\": \"sum\",\n",
    "            \"female_duration\": \"sum\",\n",
    "            \"music_duration\": \"sum\",\n",
    "            \"hour\": \"count\",\n",
    "        }\n",
    "    )\n",
    "    .reset_index()\n",
    "    .rename(\n",
    "        columns={\n",
    "            \"hour\": \"nb_hours_analyzed\",\n",
    "        }\n",
    "    )\n",
    ")\n",
    "df_year_level.head(5)"
   ]
  },
  {
   "cell_type": "code",
   "execution_count": null,
   "metadata": {},
   "outputs": [],
   "source": [
    "# Ratio par chaîne et par année\n",
    "df_year_level = ratio(df_year_level)\n",
    "df_year_level.head(5)"
   ]
  },
  {
   "cell_type": "code",
   "execution_count": null,
   "metadata": {},
   "outputs": [],
   "source": [
    "sns.relplot(\n",
    "    x=\"year\",\n",
    "    y=\"women_expression_rate\",\n",
    "    hue=\"channel_name\",\n",
    "    dashes=False,\n",
    "    markers=True,\n",
    "    kind=\"line\",\n",
    "    data=df_year_level[df_year_level[\"channel_name\"].str.startswith(\"France\")],\n",
    ")\n",
    "plt.title(\"Evolution of the women expression rate along the years\")\n",
    "plt.show()"
   ]
  },
  {
   "cell_type": "markdown",
   "metadata": {},
   "source": [
    "L'évolution des chaines de télévision du groupe France télévisions et du groupe Radio France présente, sur la période 1995-2019, des women_expression_rate tous compris entre 0.17 et 0.35, à l'exception de deux chaînes. On est dans l'ensemble très loin de la parité, à l'exception de France 24 qui se situe toutes années confondues bien au-dessus des autres chaines/stations."
   ]
  },
  {
   "cell_type": "markdown",
   "metadata": {},
   "source": [
    "### Agrégation par chaine seulement et distinction public et privé"
   ]
  },
  {
   "cell_type": "markdown",
   "metadata": {},
   "source": [
    "Quelles chaines donnent le plus la parole aux femmes ?\\\n",
    "Quelles stations radio donnent le plus la parole aux femmes ?\\\n",
    "Qu'en est-il des chaines de sport?\n",
    "\n",
    "Remarque : dans la DataFrame sont distinguées channel_name et channel_code. Une même chaîne/station peut avoir deux channel_code du fait d'un changement de nom entre 1995 et 2019 mais elles n'auront qu'un channel_name. \n",
    "Donc le regroupement est fait par channel_name et non channel_code pour n'avoir qu'une ligne par chaîne. "
   ]
  },
  {
   "cell_type": "code",
   "execution_count": null,
   "metadata": {},
   "outputs": [],
   "source": [
    "# But: obtenir désormais une entrée par chaîne\n",
    "\n",
    "df_channel_level = (\n",
    "    df_stats.groupby(\n",
    "        [\n",
    "            \"media_type\",\n",
    "            \"channel_name\",\n",
    "            \"is_public_channel\",\n",
    "        ]\n",
    "    )\n",
    "    .agg(\n",
    "        {\n",
    "            \"male_duration\": \"sum\",\n",
    "            \"female_duration\": \"sum\",\n",
    "            \"music_duration\": \"sum\",\n",
    "            \"hour\": \"count\",\n",
    "        }\n",
    "    )\n",
    "    .reset_index()\n",
    "    .rename(\n",
    "        columns={\n",
    "            \"hour\": \"nb_hours_analyzed\",\n",
    "        }\n",
    "    )\n",
    ")\n",
    "df_channel_level.head(5)"
   ]
  },
  {
   "cell_type": "code",
   "execution_count": null,
   "metadata": {},
   "outputs": [],
   "source": [
    "# Ratio par chaîne\n",
    "df_channel_level = ratio(df_channel_level)\n",
    "df_channel_level.head(5)"
   ]
  },
  {
   "cell_type": "code",
   "execution_count": null,
   "metadata": {},
   "outputs": [],
   "source": [
    "# Classement des chaînes par ordre décroissant du women_expression_rate\n",
    "# on reset.index pour clarifier le classement\n",
    "df_channel_sorted = df_channel_level.sort_values(\n",
    "    by=\"women_expression_rate\", ascending=False\n",
    ").reset_index(drop=True)\n",
    "df_channel_sorted.head(5)"
   ]
  },
  {
   "cell_type": "code",
   "execution_count": null,
   "metadata": {},
   "outputs": [],
   "source": [
    "# pour rechercher le classement d'une station/chaîne dans la DataFrame des classements\n",
    "# dans search on peut mettre n'importe quelle des chaînes tv ou radio présente dans la DataFrame\n",
    "# examples\n",
    "search = \"France Inter\"\n",
    "df_channel_sorted.loc[df_channel_sorted[\"channel_name\"].str.contains(search)]\n",
    "\n",
    "# ou\n",
    "search = \"D8\"\n",
    "df_channel_sorted.loc[df_channel_sorted[\"channel_name\"].str.contains(search)]"
   ]
  },
  {
   "cell_type": "code",
   "execution_count": null,
   "metadata": {},
   "outputs": [],
   "source": [
    "# Classement parmi les radios uniquement\n",
    "df_channel_sorted_radio_only = df_channel_sorted.loc[\n",
    "    df_channel_sorted[\"media_type\"] == \"radio\"\n",
    "]\n",
    "df_channel_sorted_radio_only\n",
    "\n",
    "# Chérie FM\n",
    "#df_channel_sorted_radio_only.head(5)\n",
    "\n",
    "# Skyrock\n",
    "df_channel_sorted_radio_only.tail(5)"
   ]
  },
  {
   "cell_type": "code",
   "execution_count": null,
   "metadata": {},
   "outputs": [],
   "source": [
    "# Classement parmi les chaines tv uniquement\n",
    "df_channel_sorted_tv_only = df_channel_sorted.loc[\n",
    "    df_channel_sorted[\"media_type\"] == \"tv\"\n",
    "]\n",
    "df_channel_sorted_tv_only\n",
    "\n",
    "# Téva\n",
    "df_channel_sorted_tv_only.head()\n",
    "# Canal+Sport\n",
    "df_channel_sorted_tv_only.tail()"
   ]
  },
  {
   "cell_type": "code",
   "execution_count": null,
   "metadata": {},
   "outputs": [],
   "source": [
    "# Classement des chaînes privées en terme de women_expression_rate\n",
    "df_channel_sorted.loc[df_channel_sorted[\"is_public_channel\"] == False]\n",
    "\n",
    "# Classement des chaînes publiques en terme de women_expression_rate\n",
    "df_channel_sorted.loc[df_channel_sorted[\"is_public_channel\"] == True]"
   ]
  },
  {
   "cell_type": "code",
   "execution_count": null,
   "metadata": {},
   "outputs": [],
   "source": [
    "# Visualisation graphique, classement des chaînes\n",
    "\n",
    "sns.catplot(\n",
    "    x=\"channel_name\",\n",
    "    y=\"women_expression_rate\",\n",
    "    data=df_channel_sorted,\n",
    "    col=\"media_type\",\n",
    "    row=\"is_public_channel\",\n",
    "    kind=\"bar\",\n",
    "    height=10,\n",
    "    palette=\"Spectral\",\n",
    ").set_xticklabels(rotation=90)\n",
    "plt.show()"
   ]
  },
  {
   "cell_type": "markdown",
   "metadata": {},
   "source": [
    "### Étude de l'évolution temporelle du temps de parole des femmes à différents niveaux "
   ]
  },
  {
   "cell_type": "markdown",
   "metadata": {},
   "source": [
    "#### Évolution temporelle du taux d'expression des femmes global (radio et TV confondus)"
   ]
  },
  {
   "cell_type": "markdown",
   "metadata": {},
   "source": [
    "Quelle est l'évolution annuelle du taux de parole des femmes entre 1995 et 2019 ? "
   ]
  },
  {
   "cell_type": "code",
   "execution_count": null,
   "metadata": {},
   "outputs": [],
   "source": [
    "# On groupe par année\n",
    "\n",
    "df_years = (\n",
    "    df_stats.groupby(\n",
    "        [\n",
    "            \"year\",\n",
    "        ]\n",
    "    )\n",
    "    .agg(\n",
    "        {\n",
    "            \"male_duration\": \"sum\",\n",
    "            \"female_duration\": \"sum\",\n",
    "            \"music_duration\": \"sum\",\n",
    "            \"hour\": \"count\",\n",
    "        }\n",
    "    )\n",
    "    .reset_index()\n",
    "    .rename(\n",
    "        columns={\n",
    "            \"hour\": \"nb_hours_analyzed\",\n",
    "        }\n",
    "    )\n",
    ")"
   ]
  },
  {
   "cell_type": "code",
   "execution_count": null,
   "metadata": {},
   "outputs": [],
   "source": [
    "# Ratio par année\n",
    "df_years = ratio(df_years)"
   ]
  },
  {
   "cell_type": "code",
   "execution_count": null,
   "metadata": {
    "scrolled": true
   },
   "outputs": [],
   "source": [
    "df_years_sorted = df_years.sort_values(\n",
    "    by=\"women_expression_rate\", ascending=True\n",
    ").reset_index(drop=True)\n",
    "df_years_sorted.head(5)"
   ]
  },
  {
   "cell_type": "markdown",
   "metadata": {},
   "source": [
    "Entre 1995 et 2020, le taux d'expression des femmes dans les médias (tout média confondu) croit dans l'ensemble sur la période. "
   ]
  },
  {
   "cell_type": "code",
   "execution_count": null,
   "metadata": {},
   "outputs": [],
   "source": [
    "# visualisation :\n",
    "\n",
    "sns.relplot(\n",
    "    x=\"year\",\n",
    "    y=\"women_expression_rate\",\n",
    "    data=df_years_sorted,\n",
    "    kind=\"line\",\n",
    ")\n",
    "\n",
    "plt.title(\"Evolution du taux de parole des femmes au cours du temps\")\n",
    "plt.show()"
   ]
  },
  {
   "cell_type": "code",
   "execution_count": null,
   "metadata": {},
   "outputs": [],
   "source": [
    "# Régression :\n",
    "\n",
    "sns.regplot(\n",
    "    x=\"year\",\n",
    "    y=\"women_expression_rate\",\n",
    "    data=df_years_sorted,\n",
    ")\n",
    "plt.show()"
   ]
  },
  {
   "cell_type": "markdown",
   "metadata": {},
   "source": [
    "### Sur quelles thématiques les femmes parlent-elles le plus ?  "
   ]
  },
  {
   "cell_type": "markdown",
   "metadata": {},
   "source": [
    "#### Les radio musicales sont-elles plus féminines ou masculine en terme de temps de parole ? "
   ]
  },
  {
   "cell_type": "code",
   "execution_count": null,
   "metadata": {},
   "outputs": [],
   "source": [
    "df_radio = df_stats[df_stats[\"media_type\"] == \"radio\"].copy()\n",
    "\n",
    "# en regardant une station radio musicale on constate que le taux de musique est proche de 0.7\n",
    "# création d'une indicatrice indiquant si la station radio est musicale ou non.\n",
    "# le critère est d'avoir un taux de musique > 0.7\n",
    "# on ajoute musique rate à la base de donnée df_radio\n",
    "\n",
    "df_radio[\"music_rate\"] = df_radio[\"music_duration\"] / (\n",
    "    df_radio[\"female_duration\"] + df_radio[\"male_duration\"] + df_radio[\"music_duration\"]\n",
    ")\n",
    "\n",
    "df_radio[\"musical_channel\"] = df_radio[\"music_rate\"] > 0.7\n",
    "df_radio.head(5)"
   ]
  },
  {
   "cell_type": "code",
   "execution_count": null,
   "metadata": {},
   "outputs": [],
   "source": [
    "# Chérie FM par exemple est considérée comme une station radio musicale\n",
    "df_radio.iloc[0, -1]"
   ]
  },
  {
   "cell_type": "code",
   "execution_count": null,
   "metadata": {},
   "outputs": [],
   "source": [
    "df_radio_musical_channel = (\n",
    "    df_radio.groupby(\n",
    "        [\n",
    "            \"musical_channel\",\n",
    "        ]\n",
    "    )\n",
    "    .agg(\n",
    "        {\n",
    "            \"female_duration\": \"sum\",\n",
    "            \"male_duration\": \"sum\",\n",
    "            \"music_duration\": \"sum\",\n",
    "            \"hour\": \"count\",\n",
    "        }\n",
    "    )\n",
    "    .reset_index()\n",
    "    .rename(\n",
    "        columns={\n",
    "            \"hour\": \"nb_hours_analyzed\",\n",
    "        }\n",
    "    )\n",
    ")\n",
    "df_radio_musical_channel"
   ]
  },
  {
   "cell_type": "code",
   "execution_count": null,
   "metadata": {},
   "outputs": [],
   "source": [
    "# recréeation du women_expression_rate\n",
    "df_radio_musical_channel[\"women_expression_rate\"] = df_radio_musical_channel[\"female_duration\"] / (df_radio_musical_channel[\"female_duration\"] + df_radio_musical_channel[\"male_duration\"])\n",
    "df_radio_musical_channel"
   ]
  },
  {
   "cell_type": "markdown",
   "metadata": {},
   "source": [
    "On constate que les femmes parlent un peu plus sur les chaînes musicales que sur les autres chaines."
   ]
  },
  {
   "cell_type": "code",
   "execution_count": null,
   "metadata": {},
   "outputs": [],
   "source": [
    "musical_channel = (\n",
    "    ratio(\n",
    "        df_radio_musical_channel.groupby([\"musical_channel\"])\n",
    "        .agg(\n",
    "            {\n",
    "                \"female_duration\": \"sum\",\n",
    "                \"male_duration\": \"sum\",\n",
    "                \"music_duration\":\"sum\",\n",
    "                \"nb_hours_analyzed\": \"count\",\n",
    "            }\n",
    "        )\n",
    "        .reset_index()\n",
    "    )\n",
    "    .set_index([\"musical_channel\"])[[\"women_expression_rate\", \"men_expression_rate\"]]\n",
    ")\n",
    "musical_channel"
   ]
  },
  {
   "cell_type": "code",
   "execution_count": null,
   "metadata": {},
   "outputs": [],
   "source": [
    "musical_channel.T.plot.pie(subplots=True, legend=False, figsize=(10, 100), autopct=\"%.2f\")\n",
    "plt.legend( loc = 'best' )\n",
    "plt.title(\"Taux d'expression masculin et féminin selon le type de chaîne (musical-True ou non-False)\")"
   ]
  },
  {
   "cell_type": "markdown",
   "metadata": {},
   "source": [
    "On voit graphiquement que sur les chaînes dites musicales, les femmes parlent un peu plus que sur les autres."
   ]
  },
  {
   "cell_type": "markdown",
   "metadata": {},
   "source": [
    "#### Etude du taux d'expression des femmes selon le type des chaînes de télévisions"
   ]
  },
  {
   "cell_type": "markdown",
   "metadata": {},
   "source": [
    "On s'intéresse maintenant au taux d'expression des femmes sur les chaînes de télévision selon le genre des chaînes. Pour cela, on récupère les données depuis un tableau de la page Wikipédia \"Liste des chaînes de télévision en France\" qui résument les informations nécessaires. "
   ]
  },
  {
   "cell_type": "code",
   "execution_count": null,
   "metadata": {},
   "outputs": [],
   "source": [
    "# enregistrement de l'url de la page d'intérêt.\n",
    "url_channel=\"https://fr.wikipedia.org/wiki/Liste_des_cha%C3%AEnes_de_t%C3%A9l%C3%A9vision_en_France\"\n",
    "from urllib import request\n",
    "request_text = request.urlopen(url_channel).read()"
   ]
  },
  {
   "cell_type": "code",
   "execution_count": null,
   "metadata": {},
   "outputs": [],
   "source": [
    "# Utilisation de BeautifulSoup \n",
    "\n",
    "page = bs4.BeautifulSoup(request_text, \"lxml\")\n",
    "# Récupération du tableau utile sur la page en code html.\n",
    "table = page.find('table', {'class' : 'wikitable sortable'})\n",
    "# On isole le corps du tableau.\n",
    "channel_type=pd.read_html(table.prettify(), flavor=\"lxml\")\n",
    "df_channel_type=channel_type[0].drop(columns=[\"Logo\"])\n",
    "df_channel_type.head()"
   ]
  },
  {
   "cell_type": "code",
   "execution_count": null,
   "metadata": {},
   "outputs": [],
   "source": [
    "data_channel_type = df_channel_type[['Nom','Genre']]\n",
    "data_channel_type = data_channel_type.rename(columns = {'Nom':'channel_name','Genre':'channel_type'})\n",
    "data_channel_type.head()"
   ]
  },
  {
   "cell_type": "code",
   "execution_count": null,
   "metadata": {},
   "outputs": [],
   "source": [
    "df_tv = df_stats[df_stats[\"media_type\"] == \"tv\"].copy()\n",
    "df_tv.head(5)"
   ]
  },
  {
   "cell_type": "code",
   "execution_count": null,
   "metadata": {},
   "outputs": [],
   "source": [
    "df_tv.loc[df_tv['channel_name'] == 'I-Télé/CNews', 'channel_name'] = 'CNews'\n",
    "df_tv_type = df_tv.merge(data_channel_type,how='inner')\n",
    "df_tv_type.sample(5)"
   ]
  },
  {
   "cell_type": "code",
   "execution_count": null,
   "metadata": {},
   "outputs": [],
   "source": [
    "df_tv_type['channel_type'].unique()"
   ]
  },
  {
   "cell_type": "code",
   "execution_count": null,
   "metadata": {},
   "outputs": [],
   "source": [
    "# On recrée le women_expression_rate\n",
    "df_tv_type[\"women_expression_rate\"] = df_tv_type[\n",
    "    \"female_duration\"\n",
    "] / (\n",
    "    df_tv_type[\"female_duration\"]\n",
    "    + df_tv_type[\"male_duration\"]\n",
    ")\n",
    "df_tv_type.sample(10)"
   ]
  },
  {
   "cell_type": "code",
   "execution_count": null,
   "metadata": {},
   "outputs": [],
   "source": [
    "df_tv_channel_type = (\n",
    "    df_tv_type.groupby(\n",
    "        [\n",
    "            \"channel_type\",\n",
    "        ]\n",
    "    )\n",
    "    .agg(\n",
    "        {\n",
    "            \"female_duration\": \"sum\",\n",
    "            \"male_duration\": \"sum\",\n",
    "            \"hour\": \"count\",\n",
    "        }\n",
    "    )\n",
    "    .reset_index()\n",
    "    .rename(\n",
    "    columns={\n",
    "        \"hour\": \"nb_hours_analyzed\",\n",
    "    }\n",
    "    )\n",
    "    )\n",
    "df_tv_channel_type"
   ]
  },
  {
   "cell_type": "code",
   "execution_count": null,
   "metadata": {},
   "outputs": [],
   "source": [
    "# On recrée le women_expression_rate\n",
    "df_tv_channel_type[\"women_expression_rate\"] = df_tv_channel_type[\n",
    "    \"female_duration\"\n",
    "] / (\n",
    "    df_tv_channel_type[\"female_duration\"]\n",
    "    + df_tv_channel_type[\"male_duration\"]\n",
    ")\n",
    "df_tv_channel_type"
   ]
  },
  {
   "cell_type": "markdown",
   "metadata": {},
   "source": [
    "Le taux d'expression des femmes est très faibles sur les chaînes de sports (5%) ainsi que sur la châine 'Planète +' (17%), qui est la seule chaîne de l'échantillon classée dans la catégorie 'Découverte. Sur les chaînes classées dans les catégories 'Généraliste' et 'Information', les femmes s'expriment autant que dans la moyenne générale de l'échantillon (33-34%)."
   ]
  },
  {
   "cell_type": "code",
   "execution_count": null,
   "metadata": {},
   "outputs": [],
   "source": [
    "df_tv_by_channel_type = ratio(\n",
    "    df_tv_type.groupby([\"channel_type\", \"channel_name\"])\n",
    "    .agg(\n",
    "        {\n",
    "            \"female_duration\": \"sum\",\n",
    "            \"male_duration\": \"sum\",\n",
    "            \"music_duration\": \"sum\",\n",
    "            \"hour\": \"sum\",\n",
    "        }\n",
    "    )\n",
    "    .reset_index()\n",
    "    .rename(\n",
    "    columns={\n",
    "        \"hour\": \"nb_hours_analyzed\"\n",
    "    })\n",
    ").set_index([\"channel_type\", \"channel_name\"])\n",
    "\n",
    "df_tv_by_channel_type"
   ]
  },
  {
   "cell_type": "code",
   "execution_count": null,
   "metadata": {},
   "outputs": [],
   "source": [
    "channel_type = (\n",
    "    ratio(\n",
    "        df_tv_by_channel_type.groupby([\"channel_type\"])\n",
    "        .agg(\n",
    "            {\n",
    "                \"female_duration\": \"sum\",\n",
    "                \"male_duration\": \"sum\",\n",
    "                \"music_duration\": \"sum\",\n",
    "                \"nb_hours_analyzed\": \"count\",\n",
    "            }\n",
    "        )\n",
    "        .reset_index()\n",
    "    )\n",
    "    .set_index([\"channel_type\"])[[\"women_expression_rate\", \"men_expression_rate\"]]\n",
    ")\n",
    "channel_type"
   ]
  },
  {
   "cell_type": "code",
   "execution_count": null,
   "metadata": {},
   "outputs": [],
   "source": [
    "channel_type.plot.bar(stacked=True)\n",
    "plt.title(\"Taux d'expression masculin et féminin suivant le genre des chaînes tv\")\n",
    "plt.show()"
   ]
  },
  {
   "cell_type": "code",
   "execution_count": null,
   "metadata": {},
   "outputs": [],
   "source": [
    "# création d'un nouveau dataframe contenant seulement les chaînes appartenant à France Télévions\n",
    "df_tv_type['France Télévisions'] = df_tv_type['channel_name'].str.contains('France')\n",
    "df_tv_type\n",
    "df_france_tv = df_tv_type[df_tv_type['France Télévisions'] == True]\n",
    "df_france_tv = df_france_tv[df_france_tv['year'] >= 2016]"
   ]
  },
  {
   "cell_type": "code",
   "execution_count": null,
   "metadata": {},
   "outputs": [],
   "source": [
    "sns.barplot(x=\"channel_name\", y=\"women_expression_rate\",hue='year', data=df_france_tv)\n",
    "plt.show()"
   ]
  },
  {
   "cell_type": "markdown",
   "metadata": {},
   "source": [
    "Le taux d'expression des femmes a très légèrement augmenté entre 2016 et 2019 pour les chaînes appartenant au groupe France Télévisions. Cependant, ce taux reste très loin de la parité hommes-femmes. "
   ]
  },
  {
   "cell_type": "markdown",
   "metadata": {},
   "source": [
    "### Etude de la relation entre le taux d'expression des femmes et le taux d'audience des chaînes télévisées"
   ]
  },
  {
   "cell_type": "code",
   "execution_count": null,
   "metadata": {},
   "outputs": [],
   "source": [
    "audiences = pd.read_excel(\n",
    "    \"data/audiences_tv.xlsx\", \n",
    "    sheet_name = \"PartdAudience\", \n",
    "    skiprows=6, \n",
    "    nrows=35\n",
    ")\n",
    "\n",
    "audiences = audiences.rename(columns={audiences.columns[0]: \"year\"})\n",
    "\n",
    "flattened_audiences = audiences.melt(id_vars=[\"year\"], var_name=\"channel_name\", value_name=\"audience\")\n",
    "\n",
    "flattened_audiences[\"audience\"] = pd.to_numeric(flattened_audiences[\"audience\"], errors=\"coerce\")\n",
    "\n",
    "df_audience = flattened_audiences.dropna(subset=[\"audience\"])\n",
    "df_audience.head(5)"
   ]
  },
  {
   "cell_type": "code",
   "execution_count": null,
   "metadata": {},
   "outputs": [],
   "source": [
    "# Ensuite, on merge cette nouvelle base avec notre base de données sur les chaînes tv\n",
    "grouped = df_year_level.groupby(df_year_level.media_type)\n",
    "df_tv = grouped.get_group(\"tv\").reset_index(drop = True)\n",
    "df_tv_audience=df_tv.merge(df_audience,how='inner')\n",
    "df_tv_audience['channel_name'].unique() #15 chaînes restantes\n",
    "df_tv_audience.sample(5)"
   ]
  },
  {
   "cell_type": "code",
   "execution_count": null,
   "metadata": {},
   "outputs": [],
   "source": [
    "plt.scatter(df_tv_audience['women_expression_rate'],df_tv_audience['audience'])\n",
    "plt.show()"
   ]
  },
  {
   "cell_type": "markdown",
   "metadata": {},
   "source": [
    "Il ne semble pas y avoir de corrélation entre le taux d'audience des chaînes et le taux d'expression des femmes sur ces chaînes."
   ]
  },
  {
   "cell_type": "code",
   "execution_count": null,
   "metadata": {},
   "outputs": [],
   "source": [
    "# statistiques decriptives\n",
    "df_tv_audience['audience'].describe()"
   ]
  },
  {
   "cell_type": "code",
   "execution_count": null,
   "metadata": {},
   "outputs": [],
   "source": [
    "#Grâce aux statistiques descriptives, on définit un seuil à partir duquel la chaîne est une chaîne à forte audience\n",
    "# on choisit le 3ème quartile\n",
    "# on fait de même pour définir des chaînes à faible audience et choix de la médiane comme seuil\n",
    "df_tv_audience['high_audience']=df_tv_audience['audience']>9.4\n",
    "df_tv_audience['low_audience']=df_tv_audience['audience']<2.8\n",
    "df_tv_audience.head()"
   ]
  },
  {
   "cell_type": "code",
   "execution_count": null,
   "metadata": {},
   "outputs": [],
   "source": [
    "# Exercice supplémentaire: classement des chaines par audience\n",
    "df_tv_audience.loc[df_tv_audience['audience']>9.4,['channel_name']]\n",
    "#On obtient : France 2, France 3, M6 et TF1"
   ]
  },
  {
   "cell_type": "markdown",
   "metadata": {},
   "source": [
    "# Modélisation "
   ]
  },
  {
   "cell_type": "markdown",
   "metadata": {},
   "source": [
    "On dépasse désormais le descriptif et l'analyse. On choisit de prédire l'évolution mensuelle du _women expression rate_ pour une chaine donnée et pour un nombre de mois après la date de la dernière information certaine. Pour cela on utilise le package **Prophet**.\n",
    "\n",
    "Prophet est une une bibliothèque (Python et R) de prévision de séries chronologiques basée sur un modèle additif où les tendances non linéaires sont ajustées à la saisonnalité annuelle notamment. \n",
    "\n",
    "L'input est une base de donnée à deux colonnes : `ds` et `y`. `y` (target) est la colonne numérique sur laquelle on veut obtenir le forecast. `ds` (datastamp column) est la colonne qui représente une date ou un instant."
   ]
  },
  {
   "cell_type": "code",
   "execution_count": null,
   "metadata": {},
   "outputs": [],
   "source": [
    "# TOP 5 en nombre d'heures analysées pour sélectionner les chaines sur lesquelles appliquer le forecast\n",
    "df_stats.groupby([\"channel_name\"]).agg({\"hour\": \"count\"}).reset_index().sort_values(\n",
    "    by=\"hour\", ascending=False\n",
    ").head(5)"
   ]
  },
  {
   "cell_type": "markdown",
   "metadata": {},
   "source": [
    "## Préparation des données pour construire un modèle"
   ]
  },
  {
   "cell_type": "code",
   "execution_count": null,
   "metadata": {},
   "outputs": [],
   "source": [
    "df_forecast = df_stats.copy()\n",
    "df_forecast[\"date\"] = pd.to_datetime(df_forecast[\"date\"])\n",
    "\n",
    "# On arrondit les dates au premier jour du mois\n",
    "df_forecast[\"date\"] = df_forecast[\"date\"].dt.to_period('M').dt.to_timestamp()\n",
    "df_forecast_grouped = (\n",
    "    df_forecast.groupby(\n",
    "        [\n",
    "            \"media_type\",\n",
    "            \"channel_name\",\n",
    "            \"is_public_channel\",\n",
    "            \"date\",\n",
    "        ]\n",
    "    )\n",
    "    .agg(\n",
    "        {\n",
    "            \"male_duration\": \"sum\",\n",
    "            \"female_duration\": \"sum\",\n",
    "            \"music_duration\": \"sum\",\n",
    "        }\n",
    "    )\n",
    "    .reset_index()\n",
    ")\n",
    "\n",
    "# On applique la fonction ratio \n",
    "df_forecast_grouped = ratio(df_forecast_grouped)\n",
    "\n",
    "# Simplification de la base de données : on ne garde que les trois colonnes date, channel_name et women_expression_rate\n",
    "df_forecast_grouped = df_forecast_grouped[\n",
    "    [\"date\", \"channel_name\", \"women_expression_rate\"]\n",
    "].copy()\n",
    "\n",
    "df_forecast_grouped"
   ]
  },
  {
   "cell_type": "markdown",
   "metadata": {},
   "source": [
    "## Modèle : _time series_ forecasting avec Prophet"
   ]
  },
  {
   "cell_type": "code",
   "execution_count": null,
   "metadata": {},
   "outputs": [],
   "source": [
    "def forecast(channel_name, periods=12):\n",
    "    \"\"\"\n",
    "    Prend en input le nom d'une chaîne\n",
    "    et le nombre de périodes (mois) sur lesquelles \n",
    "    on veut prédire et affiche la prévision\n",
    "    \"\"\"\n",
    "    # On filtre la base de données sur la chaîne passée en argument de la fonction.\n",
    "    df_fit = df_forecast_grouped[\n",
    "        df_forecast_grouped[\"channel_name\"] == channel_name\n",
    "    ].copy() \n",
    "    df_fit = df_fit[[\"date\", \"women_expression_rate\"]].copy()\n",
    "    # On renomme les colonnes de df_fit conformément aux attentes du modèle.\n",
    "    df_fit.columns = [\n",
    "        \"ds\",\n",
    "        \"y\",\n",
    "    ]\n",
    "\n",
    "    try:\n",
    "        # On initialise Prophet.\n",
    "        m = Prophet(weekly_seasonality=False, daily_seasonality=False)\n",
    "        \n",
    "        # On ajoute les jours fériés français. \n",
    "        # Si le modèle pense qu’il est pertinent de les prendre en compte dans l'analyse, il le fera. \n",
    "        m.add_country_holidays(country_name=\"FR\")\n",
    "        \n",
    "        # On applique le modèle à df_fit.\n",
    "        m.fit(df_fit)\n",
    "    \n",
    "    except ValueError:\n",
    "        print(\"Erreur : Chaîne non trouvée\")\n",
    "        return\n",
    "\n",
    "    # On crée un dataframe future contenant les dates sur lesquelles les prévisions seront faites.\n",
    "    future = m.make_future_dataframe(periods=periods, freq=\"MS\")\n",
    "\n",
    "    # On réalise la prédiction\n",
    "    forecast = m.predict(future)\n",
    "\n",
    "    fig1 = m.plot(forecast)\n",
    "    fig2 = m.plot_components(forecast)"
   ]
  },
  {
   "cell_type": "code",
   "execution_count": null,
   "metadata": {},
   "outputs": [],
   "source": [
    "forecast(\"France Culture\", periods=24)"
   ]
  },
  {
   "cell_type": "markdown",
   "metadata": {},
   "source": [
    "France Culture est choisie car la chaine fait partie du TOP 5 des chaînes les plus analysées. \n",
    "\n",
    "Forecast : les points noirs correspondent aux valeurs réelles du women_expression_rate pour la chaine France Culture. La courbe bleue foncée correpond au forecast, tous les composants (trend, saisonalité, résidus) de la série temporelle confondus. La qualité du forecast a l'air plutôt bonne: seuls quelques points sont en dehors de la zone bleues claires qui représente l'intervelle de confiance. \n",
    "\n",
    "Tendance : La tendance est décroissante de 1995 à 2005 avant de devenir fortement croissante à partir de 2005.\n",
    "\n",
    "Les vacances scolaires : Prophet prend en compte également les jours fériés. On constate que les effets des vacances scolaires sont minimes. \n",
    "\n",
    "Saisonalité : On a introduit une saisonalité annuelle, sinon le forecast semble moins bon. Plus de valeurs réelle de y sont à l'extérieur de l'intervalle bleu."
   ]
  },
  {
   "cell_type": "code",
   "execution_count": null,
   "metadata": {},
   "outputs": [],
   "source": [
    "forecast(\"BFM TV\", periods=36)"
   ]
  },
  {
   "cell_type": "markdown",
   "metadata": {},
   "source": [
    "## Évaluation de la qualité du modèle : évaluation de la performance des prédictions"
   ]
  },
  {
   "cell_type": "markdown",
   "metadata": {},
   "source": [
    "Il s'agit d'une \"cross validation procedure\". Prophet comprend une fonctionnalité d'évaluation de la qualité du modèle en mesurant l'erreur de prévision à l'aide de données historiques. Cela se fait en sélectionnant des points de coupure dans l'histoire, et pour chacun d'eux, en ajustant le modèle en utilisant des données uniquement jusqu'à ce point de coupure. On peut alors comparer les valeurs prévues aux valeurs réelles.\n",
    "\n",
    "La sortie de la validation croisée est un cadre de données avec les valeurs réelles y et les valeurs de prévision hors échantillon $\\hat{y}$, à chaque date de prévision simulée et pour chaque date limite. En particulier, une prévision est faite pour chaque point observé entre la date limite et la date limite + l'horizon. La nouvelle dataframe obtenue s'appelle df_cv. Ce cadre de données peut ensuite être utilisé pour calculer les mesures d'erreur de $\\hat{y}$ par rapport à y. Ces mesures d'erreurs sont résumées dans d_p. \n",
    "\n",
    "Dans les forecast précédents, le modèle utilise pour une chaine donnée, toutes les données disponibles dans df_forecast (copie df_stats) pour prédire le women_expression_rate sur deux nouvelles années qui ne sont pas disponibles dans les données : 2019 et 2020. Toutes les chaines n'ayant pas le même nombres de mois disponibles dans les données, pour réaliser l'évaluation du modèle, on prend un cas particulier : on choisit comme paramètres, dans cross validation, initial = '6 Y', period='1 Y', horizon = '2 Y'. Signification : on a regardé si le modèle est capable de faire des prédictions performantes sur deux ans en prenant les 6 années précédant le cutoff comme historique. Ce test est fait autant de fois possibles sur les données en déplacant le cutoff de un an à chaque fois. "
   ]
  },
  {
   "cell_type": "code",
   "execution_count": null,
   "metadata": {},
   "outputs": [],
   "source": [
    "# Diagnostics \n",
    "\n",
    "def cross_validate(channel_name):\n",
    "    \"\"\"\n",
    "    Prend en input le nom d'une chaîne\n",
    "    et affiche deux dataframe comportant \n",
    "    des mesures de performance des prédictions\n",
    "    \"\"\"\n",
    "    # On filtre la base de données sur la chaîne passée en argument de la fonction.\n",
    "    df_fit = df_forecast_grouped[\n",
    "        df_forecast_grouped[\"channel_name\"] == channel_name\n",
    "    ].copy() \n",
    "    df_fit = df_fit[[\"date\", \"women_expression_rate\"]].copy()\n",
    "    # On renomme les colonnes de df_fit conformément aux attentes du modèle.\n",
    "    df_fit.columns = [\n",
    "        \"ds\",\n",
    "        \"y\",\n",
    "    ]\n",
    "\n",
    "    try:\n",
    "        # On initialise Prophet.\n",
    "        m = Prophet(weekly_seasonality=False, daily_seasonality=False)\n",
    "        \n",
    "        # On ajoute les jours fériés français. \n",
    "        # Si le modèle pense qu’il est pertinent de les prendre en compte dans l'analyse, il le fera. \n",
    "        m.add_country_holidays(country_name=\"FR\")\n",
    "        \n",
    "        # On applique le modèle à df_fit.\n",
    "        m.fit(df_fit)\n",
    "    \n",
    "    except ValueError:\n",
    "        print(\"Erreur : Chaîne non trouvée\")\n",
    "        return\n",
    "    \n",
    "    df_cv = cross_validation(m, initial='312 W', period='52 W', horizon = '104 W')\n",
    "    df_p = performance_metrics(df_cv)\n",
    "    return df_cv, df_p"
   ]
  },
  {
   "cell_type": "code",
   "execution_count": null,
   "metadata": {
    "scrolled": true
   },
   "outputs": [],
   "source": [
    "df_cv, df_p = cross_validate(\"France Culture\")"
   ]
  },
  {
   "cell_type": "code",
   "execution_count": null,
   "metadata": {},
   "outputs": [],
   "source": [
    "df_cv"
   ]
  },
  {
   "cell_type": "code",
   "execution_count": null,
   "metadata": {},
   "outputs": [],
   "source": [
    "df_p"
   ]
  },
  {
   "cell_type": "code",
   "execution_count": null,
   "metadata": {},
   "outputs": [],
   "source": [
    "fig_mape = plot_cross_validation_metric(df_cv, metric='mape', rolling_window=0.1)"
   ]
  },
  {
   "cell_type": "markdown",
   "metadata": {},
   "source": [
    "Les points montrent le % absolu d'erreurs pour chaque prédiction de df_cv. La ligne bleue indique le Mean Absolute Percentage error, où la moyenne est prise sur une fenêtre roulante des points. Pour cette prévision, on constate des erreurs d'environ 8 % qui sont typiques pour les prévisions sur ce type d'horizon."
   ]
  }
 ],
 "metadata": {
  "kernelspec": {
   "display_name": "Python 3 (ipykernel)",
   "language": "python",
   "name": "python3"
  },
  "language_info": {
   "codemirror_mode": {
    "name": "ipython",
    "version": 3
   },
   "file_extension": ".py",
   "mimetype": "text/x-python",
   "name": "python",
   "nbconvert_exporter": "python",
   "pygments_lexer": "ipython3",
   "version": "3.13.1"
  }
 },
 "nbformat": 4,
 "nbformat_minor": 4
}
